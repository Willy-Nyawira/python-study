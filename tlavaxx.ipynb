{
 "cells": [
  {
   "cell_type": "code",
   "execution_count": 4,
   "metadata": {},
   "outputs": [
    {
     "name": "stdout",
     "output_type": "stream",
     "text": [
      "You got it right!\n"
     ]
    }
   ],
   "source": [
    "ans = int( input(\"What is 5 + 5? \") )\n",
    "if ans == 10:\n",
    " print(\"You got it right!\")\n"
   ]
  },
  {
   "cell_type": "code",
   "execution_count": 7,
   "metadata": {},
   "outputs": [
    {
     "name": "stdout",
     "output_type": "stream",
     "text": [
      "Both statements were true\n"
     ]
    }
   ],
   "source": [
    "x, y, z = 5, 10, 5\n",
    "if x < y and x == z:\n",
    " print(\"Both statements were true\")"
   ]
  },
  {
   "cell_type": "code",
   "execution_count": 10,
   "metadata": {},
   "outputs": [
    {
     "name": "stdout",
     "output_type": "stream",
     "text": [
      "Baseball does not contain the character x\n"
     ]
    }
   ],
   "source": [
    "word = \"Baseball\"\n",
    "if \"x\" not in word:\n",
    " print( \"{} does not contain the character x\".format(word) )"
   ]
  },
  {
   "cell_type": "code",
   "execution_count": 13,
   "metadata": {},
   "outputs": [
    {
     "name": "stdout",
     "output_type": "stream",
     "text": [
      "equal\n"
     ]
    }
   ],
   "source": [
    "x, y = 5, 10\n",
    "if x > y:\n",
    " print(\"x is greater\")\n",
    "elif (x + 10) < y: # checking if 15 is less than 10\n",
    " print(\"x is less\")\n",
    "elif (x + 5) == y: # checking if 10 is equal to 10\n",
    " print(\"equal\")"
   ]
  },
  {
   "cell_type": "code",
   "execution_count": 18,
   "metadata": {},
   "outputs": [
    {
     "name": "stdout",
     "output_type": "stream",
     "text": [
      "Hello mr john!\n"
     ]
    }
   ],
   "source": [
    "name = input(\"What is your name:\")\n",
    "if name == \"Jacob\":\n",
    " print(\"Hello Jacob!\")\n",
    "else:\n",
    " print(\"Hello mr {}!\".format(name) )"
   ]
  },
  {
   "cell_type": "code",
   "execution_count": 20,
   "metadata": {},
   "outputs": [
    {
     "name": "stdout",
     "output_type": "stream",
     "text": [
      "data: [50, 10, 15, 20]\t data_copy: [5, 10, 15, 20]\n"
     ]
    }
   ],
   "source": [
    "# using [:] to copy a list\n",
    "data = [5, 10, 15, 20]\n",
    "data_copy = data[ : ] # a single colon copies the list\n",
    "data[0] = 50\n",
    "print( \"data: {}\\t data_copy: {}\".format(data, data_copy) )"
   ]
  },
  {
   "cell_type": "code",
   "execution_count": 23,
   "metadata": {},
   "outputs": [
    {
     "name": "stdout",
     "output_type": "stream",
     "text": [
      "Value: 0\n",
      "Value: 1\n",
      "Value: 2\n",
      "Value: 3\n",
      "Value: 4\n"
     ]
    }
   ],
   "source": [
    "# writing your first for loop using range\n",
    "for num in range(5):\n",
    " print( \"Value: {}\".format(num) )"
   ]
  },
  {
   "cell_type": "code",
   "execution_count": 27,
   "metadata": {},
   "outputs": [
    {
     "name": "stdout",
     "output_type": "stream",
     "text": [
      "Value: 2\n",
      "Value: 4\n",
      "Value: 6\n",
      "Value: 8\n"
     ]
    }
   ],
   "source": [
    "# providing the start, stop, and step for the range function\n",
    "for num in range(2, 10, 2):\n",
    " print( \"Value: {}\".format(num) ) # will print all evens between 2 and 10"
   ]
  },
  {
   "cell_type": "code",
   "execution_count": 30,
   "metadata": {},
   "outputs": [
    {
     "name": "stdout",
     "output_type": "stream",
     "text": [
      "Value: J\n",
      "Value: o\n",
      "Value: h\n",
      "Value: n\n",
      "Value:  \n",
      "Value: S\n",
      "Value: m\n",
      "Value: i\n",
      "Value: t\n",
      "Value: h\n"
     ]
    }
   ],
   "source": [
    "# printing all characters in a name using the 'in' keyword\n",
    "name = \"John Smith\"\n",
    "for letter in name:\n",
    " print( \"Value: {}\".format(letter) )"
   ]
  },
  {
   "cell_type": "code",
   "execution_count": 33,
   "metadata": {},
   "outputs": [
    {
     "name": "stdout",
     "output_type": "stream",
     "text": [
      "0\n",
      "3\n",
      "6\n",
      "9\n",
      "12\n",
      "15\n",
      "18\n",
      "21\n",
      "24\n",
      "27\n",
      "30\n",
      "33\n",
      "36\n",
      "39\n",
      "42\n",
      "45\n",
      "48\n",
      "51\n",
      "54\n",
      "57\n",
      "60\n",
      "63\n",
      "66\n",
      "69\n",
      "72\n",
      "75\n",
      "78\n",
      "81\n",
      "84\n",
      "87\n",
      "90\n",
      "93\n",
      "96\n",
      "99\n"
     ]
    }
   ],
   "source": [
    "for i in range(100):\n",
    "    if i%3==0:\n",
    "        print(i)\n",
    "\n",
    "    "
   ]
  },
  {
   "cell_type": "code",
   "execution_count": 38,
   "metadata": {},
   "outputs": [
    {
     "name": "stdout",
     "output_type": "stream",
     "text": [
      "Vowels in  'aa': aa\n"
     ]
    }
   ],
   "source": [
    "# Ask for user input\n",
    "name = input(\"Please enter a string: \")\n",
    "\n",
    "# Initialize a variable to store vowels\n",
    "vowels = \"\"\n",
    "\n",
    "# Write a for loop to iterate over each character in the user input\n",
    "for char in name:\n",
    "    # Check if the character is a vowel (case-insensitive)\n",
    "    if char.lower() in 'aeiou':\n",
    "        # If it's a vowel, append it to the vowels variable\n",
    "        vowels += char\n",
    "\n",
    "# Output the vowels found in the user input\n",
    "print(\"Vowels in  '{}': {}\".format(name, vowels))\n"
   ]
  },
  {
   "cell_type": "code",
   "execution_count": 41,
   "metadata": {},
   "outputs": [
    {
     "name": "stdout",
     "output_type": "stream",
     "text": [
      "0 0\n",
      "0 1\n",
      "0 2\n",
      "1 0\n",
      "1 1\n",
      "1 2\n"
     ]
    }
   ],
   "source": [
    "# using two or more loops together is called a nested loop\n",
    "for i in range(2): # outside loop\n",
    " for j in range(3):\n",
    "  print( i, j ) # inside loop\n"
   ]
  },
  {
   "cell_type": "code",
   "execution_count": 43,
   "metadata": {},
   "outputs": [
    {
     "name": "stdout",
     "output_type": "stream",
     "text": [
      "5 \n",
      " ['ball']\n"
     ]
    }
   ],
   "source": [
    "# using pop to remove items and saving to a variable to use later\n",
    "items = [5, \"ball\", True]\n",
    "items.pop( ) # by default removes the last item\n",
    "removed_item = items.pop(0) # removes 5 and saves it into the variable\n",
    "print(removed_item, \"\\n\", items)"
   ]
  },
  {
   "cell_type": "code",
   "execution_count": 45,
   "metadata": {},
   "outputs": [
    {
     "name": "stdout",
     "output_type": "stream",
     "text": [
      "15\n"
     ]
    }
   ],
   "source": [
    "# performing a calculation in a function\n",
    "def calc( ):\n",
    " x, y = 5, 10\n",
    " print(x + y)\n",
    "calc( ) # will run the block of code within calc and output 15"
   ]
  },
  {
   "cell_type": "code",
   "execution_count": 48,
   "metadata": {},
   "outputs": [
    {
     "name": "stdout",
     "output_type": "stream",
     "text": [
      "15\n"
     ]
    }
   ],
   "source": [
    "calc()\n",
    "x,y=3,4"
   ]
  },
  {
   "cell_type": "code",
   "execution_count": 55,
   "metadata": {},
   "outputs": [],
   "source": [
    "def myName():\n",
    "    print(\"Willy Nyawira\")\n",
    "    myName()"
   ]
  },
  {
   "cell_type": "code",
   "execution_count": 57,
   "metadata": {},
   "outputs": [],
   "source": [
    "# writing your first function\n",
    "def printInfo( ): # defines what the function does when called\n",
    " print(\"Name: John Smith\")\n",
    " print(\"Age: 45\")"
   ]
  },
  {
   "cell_type": "code",
   "execution_count": 59,
   "metadata": {},
   "outputs": [
    {
     "name": "stdout",
     "output_type": "stream",
     "text": [
      "Name: John Smith\n",
      "Age: 45\n"
     ]
    }
   ],
   "source": [
    "printInfo()"
   ]
  },
  {
   "cell_type": "code",
   "execution_count": 67,
   "metadata": {},
   "outputs": [],
   "source": [
    "def hisName(name):\n",
    "    print(\"Hello,{}\".format(name))\n",
    "    "
   ]
  },
  {
   "cell_type": "code",
   "execution_count": 69,
   "metadata": {},
   "outputs": [
    {
     "name": "stdout",
     "output_type": "stream",
     "text": [
      "Hello,Sam\n"
     ]
    }
   ],
   "source": [
    "hisName('Sam')"
   ]
  },
  {
   "cell_type": "code",
   "execution_count": 71,
   "metadata": {},
   "outputs": [
    {
     "name": "stdout",
     "output_type": "stream",
     "text": [
      "Hello,john\n"
     ]
    }
   ],
   "source": [
    "hisName('john')"
   ]
  },
  {
   "cell_type": "code",
   "execution_count": 78,
   "metadata": {},
   "outputs": [],
   "source": [
    "# passing a single parameter into a function\n",
    "def printNamez(full_name):\n",
    " print( \"Your name is: {}\".format(full_name) )"
   ]
  },
  {
   "cell_type": "code",
   "execution_count": 80,
   "metadata": {},
   "outputs": [
    {
     "name": "stdout",
     "output_type": "stream",
     "text": [
      "Your name is: Willy Nyawira\n"
     ]
    }
   ],
   "source": [
    "printNamez('Willy Nyawira')"
   ]
  },
  {
   "cell_type": "code",
   "execution_count": 82,
   "metadata": {},
   "outputs": [],
   "source": [
    "def multiplyNum(num1,num2):\n",
    "    result=num1*num2\n",
    "    print('{}*{}={}'.format(num1,num2,result))"
   ]
  },
  {
   "cell_type": "code",
   "execution_count": 84,
   "metadata": {},
   "outputs": [
    {
     "name": "stdout",
     "output_type": "stream",
     "text": [
      "4*12=48\n"
     ]
    }
   ],
   "source": [
    "multiplyNum(4,12)"
   ]
  },
  {
   "cell_type": "code",
   "execution_count": 89,
   "metadata": {},
   "outputs": [],
   "source": [
    "# using a function to square all information\n",
    "numbers1 = [ 2, 4, 5, 10 ]\n",
    "numbers2 = [ 1, 3, 6 ]\n",
    "def squares(nums):\n",
    " for num in nums:\n",
    "  print(num**2)\n",
    " "
   ]
  },
  {
   "cell_type": "code",
   "execution_count": 90,
   "metadata": {},
   "outputs": [
    {
     "name": "stdout",
     "output_type": "stream",
     "text": [
      "4\n",
      "16\n",
      "25\n",
      "100\n"
     ]
    }
   ],
   "source": [
    "squares(numbers1)"
   ]
  },
  {
   "cell_type": "code",
   "execution_count": 92,
   "metadata": {},
   "outputs": [],
   "source": [
    "#optional parameters by using an empty string value\n",
    "# setting default parameter values\n",
    "def printName(first, last, middle=\"\"):\n",
    " if middle:\n",
    "  print( \"{} {} {}\".format(first, middle, last) )\n",
    " else:\n",
    "  print( \"{} {}\".format(first, last) )\n",
    " "
   ]
  },
  {
   "cell_type": "code",
   "execution_count": 94,
   "metadata": {},
   "outputs": [
    {
     "name": "stdout",
     "output_type": "stream",
     "text": [
      "John Smith\n"
     ]
    }
   ],
   "source": [
    "printName(\"John\", \"Smith\")"
   ]
  },
  {
   "cell_type": "code",
   "execution_count": 96,
   "metadata": {},
   "outputs": [
    {
     "name": "stdout",
     "output_type": "stream",
     "text": [
      "John Paul Smith\n"
     ]
    }
   ],
   "source": [
    "printName(\"John\", \"Smith\", \"Paul\") "
   ]
  },
  {
   "cell_type": "code",
   "execution_count": 98,
   "metadata": {},
   "outputs": [],
   "source": [
    "# explicity assigning values to parameters by referencing the name\n",
    "def addNums(num1, num2):\n",
    " print(num2)\n",
    " print(num1)"
   ]
  },
  {
   "cell_type": "code",
   "execution_count": 100,
   "metadata": {},
   "outputs": [
    {
     "name": "stdout",
     "output_type": "stream",
     "text": [
      "2.5\n",
      "5\n"
     ]
    }
   ],
   "source": [
    "addNums(5, num2 = 2.5)"
   ]
  },
  {
   "cell_type": "code",
   "execution_count": 103,
   "metadata": {},
   "outputs": [],
   "source": [
    "# using args parameter to take in a tuple of arbitrary values\n",
    "def outputData(name, *args):\n",
    " print( type(args) )\n",
    " for arg in args:\n",
    "  print(arg)\n",
    " "
   ]
  },
  {
   "cell_type": "code",
   "execution_count": 105,
   "metadata": {},
   "outputs": [
    {
     "name": "stdout",
     "output_type": "stream",
     "text": [
      "<class 'tuple'>\n",
      "5\n",
      "True\n",
      "Jess\n"
     ]
    }
   ],
   "source": [
    "outputData(\"John Smith\", 5, True, \"Jess\")"
   ]
  },
  {
   "cell_type": "code",
   "execution_count": 107,
   "metadata": {},
   "outputs": [],
   "source": [
    "# using kwargs parameter to take in a dictionary of arbitrary values\n",
    "def outputData(**kwargs):\n",
    " print( type(kwargs) )\n",
    " print( kwargs[ \"name\" ] )\n",
    " print( kwargs[ \"num\" ] )"
   ]
  },
  {
   "cell_type": "code",
   "execution_count": 108,
   "metadata": {},
   "outputs": [
    {
     "name": "stdout",
     "output_type": "stream",
     "text": [
      "<class 'dict'>\n",
      "John Smith\n",
      "5\n"
     ]
    }
   ],
   "source": [
    "outputData(name = \"John Smith\", num = 5, b = True)"
   ]
  },
  {
   "cell_type": "markdown",
   "metadata": {},
   "source": [
    "return statement"
   ]
  },
  {
   "cell_type": "code",
   "execution_count": 110,
   "metadata": {},
   "outputs": [],
   "source": [
    "# using return keyword to return the sum of two numbers\n",
    "def addNums(num1, num2):\n",
    " return num1 + num2\n",
    "num = addNums(5.5, 4.5) "
   ]
  },
  {
   "cell_type": "code",
   "execution_count": 112,
   "metadata": {},
   "outputs": [
    {
     "name": "stdout",
     "output_type": "stream",
     "text": [
      "10.0\n"
     ]
    }
   ],
   "source": [
    "print(num)"
   ]
  },
  {
   "cell_type": "code",
   "execution_count": 1,
   "metadata": {},
   "outputs": [
    {
     "ename": "NameError",
     "evalue": "name 'addNums' is not defined",
     "output_type": "error",
     "traceback": [
      "\u001b[1;31m---------------------------------------------------------------------------\u001b[0m",
      "\u001b[1;31mNameError\u001b[0m                                 Traceback (most recent call last)",
      "Cell \u001b[1;32mIn[1], line 1\u001b[0m\n\u001b[1;32m----> 1\u001b[0m \u001b[38;5;28mprint\u001b[39m( \u001b[43maddNums\u001b[49m(\u001b[38;5;241m10\u001b[39m, \u001b[38;5;241m10\u001b[39m) )\n",
      "\u001b[1;31mNameError\u001b[0m: name 'addNums' is not defined"
     ]
    }
   ],
   "source": [
    "print( addNums(10, 10) )"
   ]
  },
  {
   "cell_type": "code",
   "execution_count": 3,
   "metadata": {},
   "outputs": [
    {
     "name": "stdout",
     "output_type": "stream",
     "text": [
      "True\n"
     ]
    }
   ],
   "source": [
    "def searchList(aList, el):\n",
    " return True if el in aList else False\n",
    "result = searchList( [ \"one\", 2, \"three\" ], 2) # result = True\n",
    "print(result)"
   ]
  },
  {
   "cell_type": "code",
   "execution_count": 6,
   "metadata": {},
   "outputs": [],
   "source": [
    "# where global variables can be accessed\n",
    "number = 5\n",
    "def scopeTest( ):\n",
    " #number += 1 # not accessible due to function level scope\n",
    " scopeTest( )"
   ]
  },
  {
   "cell_type": "code",
   "execution_count": 8,
   "metadata": {},
   "outputs": [
    {
     "name": "stdout",
     "output_type": "stream",
     "text": [
      "function\n"
     ]
    }
   ],
   "source": [
    "# accessing variables defined in a function\n",
    "def scopeTest( ):\n",
    " word = \"function\"\n",
    " return word\n",
    "value = scopeTest( )\n",
    "print(value)"
   ]
  },
  {
   "cell_type": "code",
   "execution_count": 13,
   "metadata": {},
   "outputs": [],
   "source": [
    "num = 5\n",
    "def changeNum(n):\n",
    "    n += 5\n",
    "    print(num)"
   ]
  },
  {
   "cell_type": "code",
   "execution_count": 1,
   "metadata": {},
   "outputs": [
    {
     "name": "stdout",
     "output_type": "stream",
     "text": [
      "Before Altering: ['baseball', 'football', 'hockey', 'basketball']\n",
      "After Altering: ['soccer', 'football', 'hockey', 'basketball']\n"
     ]
    }
   ],
   "source": [
    "# changing list item values by index\n",
    "sports = [\"baseball\", \"football\", \"hockey\", \"basketball\"]\n",
    "def change(aList):\n",
    " aList[0] = \"soccer\"\n",
    "print(\"Before Altering: {}\".format(sports) )\n",
    "change(sports)\n",
    "print( \"After Altering: {}\".format(sports) )"
   ]
  },
  {
   "cell_type": "code",
   "execution_count": 5,
   "metadata": {},
   "outputs": [
    {
     "name": "stdout",
     "output_type": "stream",
     "text": [
      "x\n"
     ]
    }
   ],
   "source": [
    "def build_pyramid(rows):\n",
    "    for i in range(1, rows + 1):\n",
    "        print(' '.join(['x'] * i))\n",
    "\n",
    "# Example usage:\n",
    "build_pyramid(1)"
   ]
  },
  {
   "cell_type": "code",
   "execution_count": 8,
   "metadata": {},
   "outputs": [
    {
     "name": "stdout",
     "output_type": "stream",
     "text": [
      "John\n",
      "Amanda\n"
     ]
    }
   ],
   "source": [
    "def output_names(names):\n",
    "    for name in names:\n",
    "        if isinstance(name, str) and any(c.isalpha() for c in name):\n",
    "            print(name)\n",
    "\n",
    "# Example usage:\n",
    "names = ['John', ' ', 'Amanda', 5]\n",
    "output_names(names)\n"
   ]
  },
  {
   "cell_type": "code",
   "execution_count": 12,
   "metadata": {},
   "outputs": [
    {
     "name": "stdout",
     "output_type": "stream",
     "text": [
      "32°C is equal to 89.60°F\n",
      "12°C is equal to 53.60°F\n",
      "44°C is equal to 111.20°F\n",
      "29°C is equal to 84.20°F\n"
     ]
    }
   ],
   "source": [
    "\n",
    "def convert_to_fahrenheit(temps):\n",
    "    for celsius in temps:\n",
    "        fahrenheit = (9/5) * celsius + 32\n",
    "        print(f\"{celsius}°C is equal to {fahrenheit:.2f}°F\")\n",
    "\n",
    "# Example usage:\n",
    "temps = [32, 12, 44, 29]\n",
    "convert_to_fahrenheit(temps)\n",
    "\n"
   ]
  },
  {
   "cell_type": "code",
   "execution_count": 15,
   "metadata": {},
   "outputs": [
    {
     "name": "stdout",
     "output_type": "stream",
     "text": [
      "John\n",
      "Age is not available.\n"
     ]
    }
   ],
   "source": [
    "# using {the get method to access dictionary information\n",
    "person ={\"name\":\"John\"}\n",
    "print( person.get(\"name\") ) # retrieves value of name key as before\n",
    "print( person.get(\"age\", \"Age is not available.\") ) # get is a secure way to retrieve information"
   ]
  },
  {
   "cell_type": "code",
   "execution_count": 17,
   "metadata": {},
   "outputs": [
    {
     "name": "stdout",
     "output_type": "stream",
     "text": [
      "baseball\n"
     ]
    }
   ],
   "source": [
    "# storing a list within a dictionary and accessing it\n",
    "data = { \"sports\": [ \"baseball\", \"football\", \"hockey\", \"soccer\" ] }\n",
    "print( data[\"sports\"][0] ) # first access the key, then the index"
   ]
  },
  {
   "cell_type": "code",
   "execution_count": 20,
   "metadata": {},
   "outputs": [
    {
     "name": "stdout",
     "output_type": "stream",
     "text": [
      "Year: 2018 \t Color: Red\n"
     ]
    }
   ],
   "source": [
    "# updating a value for a key/value pair that already exists\n",
    "car = { \"year\": 2018, \"color\": \"Blue\" }\n",
    "car[\"color\"] = \"Red\"\n",
    "print( \"Year: {} \\t Color: {}\".format( car[\"year\"], car[\"color\"] ) )"
   ]
  },
  {
   "cell_type": "code",
   "execution_count": 22,
   "metadata": {},
   "outputs": [
    {
     "name": "stdout",
     "output_type": "stream",
     "text": [
      "name\n",
      "John\n",
      "age\n",
      "26\n"
     ]
    }
   ],
   "source": [
    "# looping over a dictionary via the keys\n",
    "person = { \"name\": \"John\", \"age\": 26 }\n",
    "for key in person.keys( ):\n",
    " print(key)\n",
    " print( person[key] ) # will output the value at the current key"
   ]
  },
  {
   "cell_type": "code",
   "execution_count": 27,
   "metadata": {},
   "outputs": [
    {
     "name": "stdout",
     "output_type": "stream",
     "text": [
      "John\n",
      "26\n"
     ]
    }
   ],
   "source": [
    "# looping over a dictionary via the values\n",
    "person = { \"name\": \"John\", \"age\": 26 }\n",
    "for value in person.values( ):\n",
    " print(value)"
   ]
  },
  {
   "cell_type": "code",
   "execution_count": 29,
   "metadata": {},
   "outputs": [
    {
     "name": "stdout",
     "output_type": "stream",
     "text": [
      "name: John\n",
      "age: 26\n"
     ]
    }
   ],
   "source": [
    "# looping over a dictionary via the key/value pair\n",
    "person = { \"name\": \"John\", \"age\": 26 }\n",
    "for key, value in person.items( ):\n",
    " print( \"{}: {}\".format(key, value) )"
   ]
  },
  {
   "cell_type": "code",
   "execution_count": 31,
   "metadata": {},
   "outputs": [],
   "source": [
    "# Declare an empty dictionary\n",
    "user_info = {}\n",
    "\n",
    "# Ask for user input\n",
    "name = input(\"Enter your name: \")\n",
    "address = input(\"Enter your address: \")\n",
    "number = input(\"Enter your number: \")\n",
    "\n",
    "# Add user information to the dictionary\n",
    "user_info['name'] = name\n",
    "user_info['address'] = address\n",
    "user_info['number'] = number\n",
    "\n",
    "# Iterate over the dictionary to show the user\n",
    "print(\"User Information:\")\n",
    "for key, value in user_info.items():\n",
    "    print(f\"{key.capitalize()}: {value}\")\n"
   ]
  },
  {
   "cell_type": "code",
   "execution_count": 2,
   "metadata": {},
   "outputs": [
    {
     "name": "stdout",
     "output_type": "stream",
     "text": [
      "<class 'set'> <class 'set'>\n",
      "{2, 3, 5}\n"
     ]
    }
   ],
   "source": [
    "# declaring a set\n",
    "s1 = set( [1, 2, 3, 1] ) # uses the set keyword and square brackets\n",
    "s2 = {4, 4, 5} # uses curly brackets, like dictionary\n",
    "print( type(s1), type(s2) )\n",
    "s1.add(5) # using the add method to add new items to a set\n",
    "s1.remove(1) # using the remove method to get rid of the value 1\n",
    "print(s1) # notice when printed it removed the second \"1\" at the end"
   ]
  },
  {
   "cell_type": "code",
   "execution_count": 4,
   "metadata": {},
   "outputs": [
    {
     "name": "stdout",
     "output_type": "stream",
     "text": [
      "Bank account numbers entered:\n",
      "frozenset()\n"
     ]
    }
   ],
   "source": [
    "bank_accounts = []\n",
    "\n",
    "while True:\n",
    "    account_number = input(\"Enter bank account number (or 'done' to finish): \")\n",
    "    if account_number.lower() == 'done':\n",
    "        break\n",
    "    else:\n",
    "        bank_accounts.append(account_number)\n",
    "\n",
    "bank_accounts_set = frozenset(bank_accounts)\n",
    "print(\"Bank account numbers entered:\")\n",
    "print(bank_accounts_set)\n"
   ]
  },
  {
   "cell_type": "code",
   "execution_count": null,
   "metadata": {},
   "outputs": [],
   "source": []
  },
  {
   "cell_type": "code",
   "execution_count": 6,
   "metadata": {},
   "outputs": [],
   "source": [
    " # opening/creating and writing to a text file\n",
    "f = open(\"test.txt\", \"w+\") # open file in writing and reading mode\n",
    "f.write(\"this is a test\")\n",
    "f.close( )\n"
   ]
  },
  {
   "cell_type": "code",
   "execution_count": 11,
   "metadata": {},
   "outputs": [
    {
     "name": "stdout",
     "output_type": "stream",
     "text": [
      "Arsenal is great\n"
     ]
    }
   ],
   "source": [
    "#reading from a text file\n",
    "f=open(\"example.txt\",\"r\")\n",
    "data=f.read()\n",
    "f.close()\n",
    "print(data)"
   ]
  },
  {
   "cell_type": "code",
   "execution_count": 12,
   "metadata": {},
   "outputs": [
    {
     "name": "stdout",
     "output_type": "stream",
     "text": [
      "this is a test\n"
     ]
    }
   ],
   "source": [
    " # reading from a text file\n",
    "f = open(\"test.txt\", \"r\")\n",
    "data = f.read( )\n",
    "f.close( )\n",
    "print(data)"
   ]
  },
  {
   "cell_type": "code",
   "execution_count": 15,
   "metadata": {},
   "outputs": [],
   "source": [
    "# opening/creating and writing to a csv file\n",
    "import  csv\n",
    "with open(\"test.csv\", mode=\"w\", newline=\"\") as f:\n",
    "    writer = csv.writer(f, delimiter=\",\")\n",
    "    writer.writerow( [\"Name\", \"City\"] )\n",
    "    writer.writerow( [\"Craig Lou\", \"Taiwan\"] )"
   ]
  },
  {
   "cell_type": "code",
   "execution_count": 17,
   "metadata": {},
   "outputs": [
    {
     "name": "stdout",
     "output_type": "stream",
     "text": [
      "['Name', 'City']\n",
      "['Craig Lou', 'Taiwan']\n"
     ]
    }
   ],
   "source": [
    " # reading from csv files\n",
    "with open(\"test.csv\", mode=\"r\") as f:\n",
    "    reader = csv.reader(f, delimiter=\",\")\n",
    "    for row in reader:\n",
    "        print(row)"
   ]
  },
  {
   "cell_type": "code",
   "execution_count": 22,
   "metadata": {},
   "outputs": [
    {
     "name": "stdout",
     "output_type": "stream",
     "text": [
      "Your favorite number has been saved to favorite_number.txt\n"
     ]
    }
   ],
   "source": [
    "# Ask the user for their favorite number\n",
    "favorite_number = input(\"What is your favorite number? \")\n",
    "\n",
    "# Define the filename\n",
    "filename = \"favorite_number.txt\"\n",
    "\n",
    "# Write the favorite number to a text file\n",
    "with open(filename, 'a') as file:\n",
    "    file.write(favorite_number)\n",
    "\n",
    "print(\"Your favorite number has been saved to\", filename)\n"
   ]
  },
  {
   "cell_type": "code",
   "execution_count": 24,
   "metadata": {},
   "outputs": [],
   "source": [
    "def palindrome(word):\n",
    "    return True if word == word[::-1] else False"
   ]
  },
  {
   "cell_type": "code",
   "execution_count": 26,
   "metadata": {},
   "outputs": [
    {
     "data": {
      "text/plain": [
       "True"
      ]
     },
     "execution_count": 26,
     "metadata": {},
     "output_type": "execute_result"
    }
   ],
   "source": [
    "palindrome(\"racecar\")"
   ]
  },
  {
   "cell_type": "code",
   "execution_count": 27,
   "metadata": {},
   "outputs": [
    {
     "data": {
      "text/plain": [
       "True"
      ]
     },
     "execution_count": 27,
     "metadata": {},
     "output_type": "execute_result"
    }
   ],
   "source": [
    "palindrome(\"anna\")"
   ]
  }
 ],
 "metadata": {
  "kernelspec": {
   "display_name": "Python 3",
   "language": "python",
   "name": "python3"
  },
  "language_info": {
   "codemirror_mode": {
    "name": "ipython",
    "version": 3
   },
   "file_extension": ".py",
   "mimetype": "text/x-python",
   "name": "python",
   "nbconvert_exporter": "python",
   "pygments_lexer": "ipython3",
   "version": "3.12.2"
  }
 },
 "nbformat": 4,
 "nbformat_minor": 2
}
