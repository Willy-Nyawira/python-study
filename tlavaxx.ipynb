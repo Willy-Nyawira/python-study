{
 "cells": [
  {
   "cell_type": "code",
   "execution_count": 4,
   "metadata": {},
   "outputs": [
    {
     "name": "stdout",
     "output_type": "stream",
     "text": [
      "You got it right!\n"
     ]
    }
   ],
   "source": [
    "ans = int( input(\"What is 5 + 5? \") )\n",
    "if ans == 10:\n",
    " print(\"You got it right!\")\n"
   ]
  },
  {
   "cell_type": "code",
   "execution_count": 7,
   "metadata": {},
   "outputs": [
    {
     "name": "stdout",
     "output_type": "stream",
     "text": [
      "Both statements were true\n"
     ]
    }
   ],
   "source": [
    "x, y, z = 5, 10, 5\n",
    "if x < y and x == z:\n",
    " print(\"Both statements were true\")"
   ]
  },
  {
   "cell_type": "code",
   "execution_count": 10,
   "metadata": {},
   "outputs": [
    {
     "name": "stdout",
     "output_type": "stream",
     "text": [
      "Baseball does not contain the character x\n"
     ]
    }
   ],
   "source": [
    "word = \"Baseball\"\n",
    "if \"x\" not in word:\n",
    " print( \"{} does not contain the character x\".format(word) )"
   ]
  },
  {
   "cell_type": "code",
   "execution_count": 13,
   "metadata": {},
   "outputs": [
    {
     "name": "stdout",
     "output_type": "stream",
     "text": [
      "equal\n"
     ]
    }
   ],
   "source": [
    "x, y = 5, 10\n",
    "if x > y:\n",
    " print(\"x is greater\")\n",
    "elif (x + 10) < y: # checking if 15 is less than 10\n",
    " print(\"x is less\")\n",
    "elif (x + 5) == y: # checking if 10 is equal to 10\n",
    " print(\"equal\")"
   ]
  },
  {
   "cell_type": "code",
   "execution_count": 18,
   "metadata": {},
   "outputs": [
    {
     "name": "stdout",
     "output_type": "stream",
     "text": [
      "Hello mr john!\n"
     ]
    }
   ],
   "source": [
    "name = input(\"What is your name:\")\n",
    "if name == \"Jacob\":\n",
    " print(\"Hello Jacob!\")\n",
    "else:\n",
    " print(\"Hello mr {}!\".format(name) )"
   ]
  },
  {
   "cell_type": "code",
   "execution_count": 20,
   "metadata": {},
   "outputs": [
    {
     "name": "stdout",
     "output_type": "stream",
     "text": [
      "data: [50, 10, 15, 20]\t data_copy: [5, 10, 15, 20]\n"
     ]
    }
   ],
   "source": [
    "# using [:] to copy a list\n",
    "data = [5, 10, 15, 20]\n",
    "data_copy = data[ : ] # a single colon copies the list\n",
    "data[0] = 50\n",
    "print( \"data: {}\\t data_copy: {}\".format(data, data_copy) )"
   ]
  },
  {
   "cell_type": "code",
   "execution_count": 23,
   "metadata": {},
   "outputs": [
    {
     "name": "stdout",
     "output_type": "stream",
     "text": [
      "Value: 0\n",
      "Value: 1\n",
      "Value: 2\n",
      "Value: 3\n",
      "Value: 4\n"
     ]
    }
   ],
   "source": [
    "# writing your first for loop using range\n",
    "for num in range(5):\n",
    " print( \"Value: {}\".format(num) )"
   ]
  },
  {
   "cell_type": "code",
   "execution_count": 27,
   "metadata": {},
   "outputs": [
    {
     "name": "stdout",
     "output_type": "stream",
     "text": [
      "Value: 2\n",
      "Value: 4\n",
      "Value: 6\n",
      "Value: 8\n"
     ]
    }
   ],
   "source": [
    "# providing the start, stop, and step for the range function\n",
    "for num in range(2, 10, 2):\n",
    " print( \"Value: {}\".format(num) ) # will print all evens between 2 and 10"
   ]
  },
  {
   "cell_type": "code",
   "execution_count": 30,
   "metadata": {},
   "outputs": [
    {
     "name": "stdout",
     "output_type": "stream",
     "text": [
      "Value: J\n",
      "Value: o\n",
      "Value: h\n",
      "Value: n\n",
      "Value:  \n",
      "Value: S\n",
      "Value: m\n",
      "Value: i\n",
      "Value: t\n",
      "Value: h\n"
     ]
    }
   ],
   "source": [
    "# printing all characters in a name using the 'in' keyword\n",
    "name = \"John Smith\"\n",
    "for letter in name:\n",
    " print( \"Value: {}\".format(letter) )"
   ]
  },
  {
   "cell_type": "code",
   "execution_count": 33,
   "metadata": {},
   "outputs": [
    {
     "name": "stdout",
     "output_type": "stream",
     "text": [
      "0\n",
      "3\n",
      "6\n",
      "9\n",
      "12\n",
      "15\n",
      "18\n",
      "21\n",
      "24\n",
      "27\n",
      "30\n",
      "33\n",
      "36\n",
      "39\n",
      "42\n",
      "45\n",
      "48\n",
      "51\n",
      "54\n",
      "57\n",
      "60\n",
      "63\n",
      "66\n",
      "69\n",
      "72\n",
      "75\n",
      "78\n",
      "81\n",
      "84\n",
      "87\n",
      "90\n",
      "93\n",
      "96\n",
      "99\n"
     ]
    }
   ],
   "source": [
    "for i in range(100):\n",
    "    if i%3==0:\n",
    "        print(i)\n",
    "\n",
    "    "
   ]
  },
  {
   "cell_type": "code",
   "execution_count": 38,
   "metadata": {},
   "outputs": [
    {
     "name": "stdout",
     "output_type": "stream",
     "text": [
      "Vowels in  'aa': aa\n"
     ]
    }
   ],
   "source": [
    "# Ask for user input\n",
    "name = input(\"Please enter a string: \")\n",
    "\n",
    "# Initialize a variable to store vowels\n",
    "vowels = \"\"\n",
    "\n",
    "# Write a for loop to iterate over each character in the user input\n",
    "for char in name:\n",
    "    # Check if the character is a vowel (case-insensitive)\n",
    "    if char.lower() in 'aeiou':\n",
    "        # If it's a vowel, append it to the vowels variable\n",
    "        vowels += char\n",
    "\n",
    "# Output the vowels found in the user input\n",
    "print(\"Vowels in  '{}': {}\".format(name, vowels))\n"
   ]
  },
  {
   "cell_type": "code",
   "execution_count": 41,
   "metadata": {},
   "outputs": [
    {
     "name": "stdout",
     "output_type": "stream",
     "text": [
      "0 0\n",
      "0 1\n",
      "0 2\n",
      "1 0\n",
      "1 1\n",
      "1 2\n"
     ]
    }
   ],
   "source": [
    "# using two or more loops together is called a nested loop\n",
    "for i in range(2): # outside loop\n",
    " for j in range(3):\n",
    "  print( i, j ) # inside loop\n"
   ]
  },
  {
   "cell_type": "code",
   "execution_count": 43,
   "metadata": {},
   "outputs": [
    {
     "name": "stdout",
     "output_type": "stream",
     "text": [
      "5 \n",
      " ['ball']\n"
     ]
    }
   ],
   "source": [
    "# using pop to remove items and saving to a variable to use later\n",
    "items = [5, \"ball\", True]\n",
    "items.pop( ) # by default removes the last item\n",
    "removed_item = items.pop(0) # removes 5 and saves it into the variable\n",
    "print(removed_item, \"\\n\", items)"
   ]
  },
  {
   "cell_type": "code",
   "execution_count": 45,
   "metadata": {},
   "outputs": [
    {
     "name": "stdout",
     "output_type": "stream",
     "text": [
      "15\n"
     ]
    }
   ],
   "source": [
    "# performing a calculation in a function\n",
    "def calc( ):\n",
    " x, y = 5, 10\n",
    " print(x + y)\n",
    "calc( ) # will run the block of code within calc and output 15"
   ]
  },
  {
   "cell_type": "code",
   "execution_count": 48,
   "metadata": {},
   "outputs": [
    {
     "name": "stdout",
     "output_type": "stream",
     "text": [
      "15\n"
     ]
    }
   ],
   "source": [
    "calc()\n",
    "x,y=3,4"
   ]
  },
  {
   "cell_type": "code",
   "execution_count": 55,
   "metadata": {},
   "outputs": [],
   "source": [
    "def myName():\n",
    "    print(\"Willy Nyawira\")\n",
    "    myName()"
   ]
  },
  {
   "cell_type": "code",
   "execution_count": 57,
   "metadata": {},
   "outputs": [],
   "source": [
    "# writing your first function\n",
    "def printInfo( ): # defines what the function does when called\n",
    " print(\"Name: John Smith\")\n",
    " print(\"Age: 45\")"
   ]
  },
  {
   "cell_type": "code",
   "execution_count": 59,
   "metadata": {},
   "outputs": [
    {
     "name": "stdout",
     "output_type": "stream",
     "text": [
      "Name: John Smith\n",
      "Age: 45\n"
     ]
    }
   ],
   "source": [
    "printInfo()"
   ]
  },
  {
   "cell_type": "code",
   "execution_count": 67,
   "metadata": {},
   "outputs": [],
   "source": [
    "def hisName(name):\n",
    "    print(\"Hello,{}\".format(name))\n",
    "    "
   ]
  },
  {
   "cell_type": "code",
   "execution_count": 69,
   "metadata": {},
   "outputs": [
    {
     "name": "stdout",
     "output_type": "stream",
     "text": [
      "Hello,Sam\n"
     ]
    }
   ],
   "source": [
    "hisName('Sam')"
   ]
  },
  {
   "cell_type": "code",
   "execution_count": 71,
   "metadata": {},
   "outputs": [
    {
     "name": "stdout",
     "output_type": "stream",
     "text": [
      "Hello,john\n"
     ]
    }
   ],
   "source": [
    "hisName('john')"
   ]
  },
  {
   "cell_type": "code",
   "execution_count": 78,
   "metadata": {},
   "outputs": [],
   "source": [
    "# passing a single parameter into a function\n",
    "def printNamez(full_name):\n",
    " print( \"Your name is: {}\".format(full_name) )"
   ]
  },
  {
   "cell_type": "code",
   "execution_count": 80,
   "metadata": {},
   "outputs": [
    {
     "name": "stdout",
     "output_type": "stream",
     "text": [
      "Your name is: Willy Nyawira\n"
     ]
    }
   ],
   "source": [
    "printNamez('Willy Nyawira')"
   ]
  },
  {
   "cell_type": "code",
   "execution_count": 82,
   "metadata": {},
   "outputs": [],
   "source": [
    "def multiplyNum(num1,num2):\n",
    "    result=num1*num2\n",
    "    print('{}*{}={}'.format(num1,num2,result))"
   ]
  },
  {
   "cell_type": "code",
   "execution_count": 84,
   "metadata": {},
   "outputs": [
    {
     "name": "stdout",
     "output_type": "stream",
     "text": [
      "4*12=48\n"
     ]
    }
   ],
   "source": [
    "multiplyNum(4,12)"
   ]
  },
  {
   "cell_type": "code",
   "execution_count": 89,
   "metadata": {},
   "outputs": [],
   "source": [
    "# using a function to square all information\n",
    "numbers1 = [ 2, 4, 5, 10 ]\n",
    "numbers2 = [ 1, 3, 6 ]\n",
    "def squares(nums):\n",
    " for num in nums:\n",
    "  print(num**2)\n",
    " "
   ]
  },
  {
   "cell_type": "code",
   "execution_count": 90,
   "metadata": {},
   "outputs": [
    {
     "name": "stdout",
     "output_type": "stream",
     "text": [
      "4\n",
      "16\n",
      "25\n",
      "100\n"
     ]
    }
   ],
   "source": [
    "squares(numbers1)"
   ]
  },
  {
   "cell_type": "code",
   "execution_count": 92,
   "metadata": {},
   "outputs": [],
   "source": [
    "#optional parameters by using an empty string value\n",
    "# setting default parameter values\n",
    "def printName(first, last, middle=\"\"):\n",
    " if middle:\n",
    "  print( \"{} {} {}\".format(first, middle, last) )\n",
    " else:\n",
    "  print( \"{} {}\".format(first, last) )\n",
    " "
   ]
  },
  {
   "cell_type": "code",
   "execution_count": 94,
   "metadata": {},
   "outputs": [
    {
     "name": "stdout",
     "output_type": "stream",
     "text": [
      "John Smith\n"
     ]
    }
   ],
   "source": [
    "printName(\"John\", \"Smith\")"
   ]
  },
  {
   "cell_type": "code",
   "execution_count": 96,
   "metadata": {},
   "outputs": [
    {
     "name": "stdout",
     "output_type": "stream",
     "text": [
      "John Paul Smith\n"
     ]
    }
   ],
   "source": [
    "printName(\"John\", \"Smith\", \"Paul\") "
   ]
  },
  {
   "cell_type": "code",
   "execution_count": 98,
   "metadata": {},
   "outputs": [],
   "source": [
    "# explicity assigning values to parameters by referencing the name\n",
    "def addNums(num1, num2):\n",
    " print(num2)\n",
    " print(num1)"
   ]
  },
  {
   "cell_type": "code",
   "execution_count": 100,
   "metadata": {},
   "outputs": [
    {
     "name": "stdout",
     "output_type": "stream",
     "text": [
      "2.5\n",
      "5\n"
     ]
    }
   ],
   "source": [
    "addNums(5, num2 = 2.5)"
   ]
  },
  {
   "cell_type": "code",
   "execution_count": 103,
   "metadata": {},
   "outputs": [],
   "source": [
    "# using args parameter to take in a tuple of arbitrary values\n",
    "def outputData(name, *args):\n",
    " print( type(args) )\n",
    " for arg in args:\n",
    "  print(arg)\n",
    " "
   ]
  },
  {
   "cell_type": "code",
   "execution_count": 105,
   "metadata": {},
   "outputs": [
    {
     "name": "stdout",
     "output_type": "stream",
     "text": [
      "<class 'tuple'>\n",
      "5\n",
      "True\n",
      "Jess\n"
     ]
    }
   ],
   "source": [
    "outputData(\"John Smith\", 5, True, \"Jess\")"
   ]
  },
  {
   "cell_type": "code",
   "execution_count": 107,
   "metadata": {},
   "outputs": [],
   "source": [
    "# using kwargs parameter to take in a dictionary of arbitrary values\n",
    "def outputData(**kwargs):\n",
    " print( type(kwargs) )\n",
    " print( kwargs[ \"name\" ] )\n",
    " print( kwargs[ \"num\" ] )"
   ]
  },
  {
   "cell_type": "code",
   "execution_count": 108,
   "metadata": {},
   "outputs": [
    {
     "name": "stdout",
     "output_type": "stream",
     "text": [
      "<class 'dict'>\n",
      "John Smith\n",
      "5\n"
     ]
    }
   ],
   "source": [
    "outputData(name = \"John Smith\", num = 5, b = True)"
   ]
  },
  {
   "cell_type": "markdown",
   "metadata": {},
   "source": [
    "return statement"
   ]
  },
  {
   "cell_type": "code",
   "execution_count": 110,
   "metadata": {},
   "outputs": [],
   "source": [
    "# using return keyword to return the sum of two numbers\n",
    "def addNums(num1, num2):\n",
    " return num1 + num2\n",
    "num = addNums(5.5, 4.5) "
   ]
  },
  {
   "cell_type": "code",
   "execution_count": 112,
   "metadata": {},
   "outputs": [
    {
     "name": "stdout",
     "output_type": "stream",
     "text": [
      "10.0\n"
     ]
    }
   ],
   "source": [
    "print(num)"
   ]
  },
  {
   "cell_type": "code",
   "execution_count": 1,
   "metadata": {},
   "outputs": [
    {
     "ename": "NameError",
     "evalue": "name 'addNums' is not defined",
     "output_type": "error",
     "traceback": [
      "\u001b[1;31m---------------------------------------------------------------------------\u001b[0m",
      "\u001b[1;31mNameError\u001b[0m                                 Traceback (most recent call last)",
      "Cell \u001b[1;32mIn[1], line 1\u001b[0m\n\u001b[1;32m----> 1\u001b[0m \u001b[38;5;28mprint\u001b[39m( \u001b[43maddNums\u001b[49m(\u001b[38;5;241m10\u001b[39m, \u001b[38;5;241m10\u001b[39m) )\n",
      "\u001b[1;31mNameError\u001b[0m: name 'addNums' is not defined"
     ]
    }
   ],
   "source": [
    "print( addNums(10, 10) )"
   ]
  },
  {
   "cell_type": "code",
   "execution_count": 3,
   "metadata": {},
   "outputs": [
    {
     "name": "stdout",
     "output_type": "stream",
     "text": [
      "True\n"
     ]
    }
   ],
   "source": [
    "def searchList(aList, el):\n",
    " return True if el in aList else False\n",
    "result = searchList( [ \"one\", 2, \"three\" ], 2) # result = True\n",
    "print(result)"
   ]
  },
  {
   "cell_type": "code",
   "execution_count": 6,
   "metadata": {},
   "outputs": [],
   "source": [
    "# where global variables can be accessed\n",
    "number = 5\n",
    "def scopeTest( ):\n",
    " #number += 1 # not accessible due to function level scope\n",
    " scopeTest( )"
   ]
  },
  {
   "cell_type": "code",
   "execution_count": 8,
   "metadata": {},
   "outputs": [
    {
     "name": "stdout",
     "output_type": "stream",
     "text": [
      "function\n"
     ]
    }
   ],
   "source": [
    "# accessing variables defined in a function\n",
    "def scopeTest( ):\n",
    " word = \"function\"\n",
    " return word\n",
    "value = scopeTest( )\n",
    "print(value)"
   ]
  },
  {
   "cell_type": "code",
   "execution_count": 13,
   "metadata": {},
   "outputs": [],
   "source": [
    "num = 5\n",
    "def changeNum(n):\n",
    "    n += 5\n",
    "    print(num)"
   ]
  },
  {
   "cell_type": "code",
   "execution_count": 1,
   "metadata": {},
   "outputs": [
    {
     "name": "stdout",
     "output_type": "stream",
     "text": [
      "Before Altering: ['baseball', 'football', 'hockey', 'basketball']\n",
      "After Altering: ['soccer', 'football', 'hockey', 'basketball']\n"
     ]
    }
   ],
   "source": [
    "# changing list item values by index\n",
    "sports = [\"baseball\", \"football\", \"hockey\", \"basketball\"]\n",
    "def change(aList):\n",
    " aList[0] = \"soccer\"\n",
    "print(\"Before Altering: {}\".format(sports) )\n",
    "change(sports)\n",
    "print( \"After Altering: {}\".format(sports) )"
   ]
  },
  {
   "cell_type": "code",
   "execution_count": 5,
   "metadata": {},
   "outputs": [
    {
     "name": "stdout",
     "output_type": "stream",
     "text": [
      "x\n"
     ]
    }
   ],
   "source": [
    "def build_pyramid(rows):\n",
    "    for i in range(1, rows + 1):\n",
    "        print(' '.join(['x'] * i))\n",
    "\n",
    "# Example usage:\n",
    "build_pyramid(1)"
   ]
  },
  {
   "cell_type": "code",
   "execution_count": 8,
   "metadata": {},
   "outputs": [
    {
     "name": "stdout",
     "output_type": "stream",
     "text": [
      "John\n",
      "Amanda\n"
     ]
    }
   ],
   "source": [
    "def output_names(names):\n",
    "    for name in names:\n",
    "        if isinstance(name, str) and any(c.isalpha() for c in name):\n",
    "            print(name)\n",
    "\n",
    "# Example usage:\n",
    "names = ['John', ' ', 'Amanda', 5]\n",
    "output_names(names)\n"
   ]
  },
  {
   "cell_type": "code",
   "execution_count": 12,
   "metadata": {},
   "outputs": [
    {
     "name": "stdout",
     "output_type": "stream",
     "text": [
      "32°C is equal to 89.60°F\n",
      "12°C is equal to 53.60°F\n",
      "44°C is equal to 111.20°F\n",
      "29°C is equal to 84.20°F\n"
     ]
    }
   ],
   "source": [
    "\n",
    "def convert_to_fahrenheit(temps):\n",
    "    for celsius in temps:\n",
    "        fahrenheit = (9/5) * celsius + 32\n",
    "        print(f\"{celsius}°C is equal to {fahrenheit:.2f}°F\")\n",
    "\n",
    "# Example usage:\n",
    "temps = [32, 12, 44, 29]\n",
    "convert_to_fahrenheit(temps)\n",
    "\n"
   ]
  },
  {
   "cell_type": "code",
   "execution_count": 15,
   "metadata": {},
   "outputs": [
    {
     "name": "stdout",
     "output_type": "stream",
     "text": [
      "John\n",
      "Age is not available.\n"
     ]
    }
   ],
   "source": [
    "# using {the get method to access dictionary information\n",
    "person ={\"name\":\"John\"}\n",
    "print( person.get(\"name\") ) # retrieves value of name key as before\n",
    "print( person.get(\"age\", \"Age is not available.\") ) # get is a secure way to retrieve information"
   ]
  },
  {
   "cell_type": "code",
   "execution_count": 17,
   "metadata": {},
   "outputs": [
    {
     "name": "stdout",
     "output_type": "stream",
     "text": [
      "baseball\n"
     ]
    }
   ],
   "source": [
    "# storing a list within a dictionary and accessing it\n",
    "data = { \"sports\": [ \"baseball\", \"football\", \"hockey\", \"soccer\" ] }\n",
    "print( data[\"sports\"][0] ) # first access the key, then the index"
   ]
  },
  {
   "cell_type": "code",
   "execution_count": 20,
   "metadata": {},
   "outputs": [
    {
     "name": "stdout",
     "output_type": "stream",
     "text": [
      "Year: 2018 \t Color: Red\n"
     ]
    }
   ],
   "source": [
    "# updating a value for a key/value pair that already exists\n",
    "car = { \"year\": 2018, \"color\": \"Blue\" }\n",
    "car[\"color\"] = \"Red\"\n",
    "print( \"Year: {} \\t Color: {}\".format( car[\"year\"], car[\"color\"] ) )"
   ]
  },
  {
   "cell_type": "code",
   "execution_count": 22,
   "metadata": {},
   "outputs": [
    {
     "name": "stdout",
     "output_type": "stream",
     "text": [
      "name\n",
      "John\n",
      "age\n",
      "26\n"
     ]
    }
   ],
   "source": [
    "# looping over a dictionary via the keys\n",
    "person = { \"name\": \"John\", \"age\": 26 }\n",
    "for key in person.keys( ):\n",
    " print(key)\n",
    " print( person[key] ) # will output the value at the current key"
   ]
  },
  {
   "cell_type": "code",
   "execution_count": 27,
   "metadata": {},
   "outputs": [
    {
     "name": "stdout",
     "output_type": "stream",
     "text": [
      "John\n",
      "26\n"
     ]
    }
   ],
   "source": [
    "# looping over a dictionary via the values\n",
    "person = { \"name\": \"John\", \"age\": 26 }\n",
    "for value in person.values( ):\n",
    " print(value)"
   ]
  },
  {
   "cell_type": "code",
   "execution_count": 29,
   "metadata": {},
   "outputs": [
    {
     "name": "stdout",
     "output_type": "stream",
     "text": [
      "name: John\n",
      "age: 26\n"
     ]
    }
   ],
   "source": [
    "# looping over a dictionary via the key/value pair\n",
    "person = { \"name\": \"John\", \"age\": 26 }\n",
    "for key, value in person.items( ):\n",
    " print( \"{}: {}\".format(key, value) )"
   ]
  },
  {
   "cell_type": "code",
   "execution_count": 31,
   "metadata": {},
   "outputs": [],
   "source": [
    "# Declare an empty dictionary\n",
    "user_info = {}\n",
    "\n",
    "# Ask for user input\n",
    "name = input(\"Enter your name: \")\n",
    "address = input(\"Enter your address: \")\n",
    "number = input(\"Enter your number: \")\n",
    "\n",
    "# Add user information to the dictionary\n",
    "user_info['name'] = name\n",
    "user_info['address'] = address\n",
    "user_info['number'] = number\n",
    "\n",
    "# Iterate over the dictionary to show the user\n",
    "print(\"User Information:\")\n",
    "for key, value in user_info.items():\n",
    "    print(f\"{key.capitalize()}: {value}\")\n"
   ]
  },
  {
   "cell_type": "code",
   "execution_count": 2,
   "metadata": {},
   "outputs": [
    {
     "name": "stdout",
     "output_type": "stream",
     "text": [
      "<class 'set'> <class 'set'>\n",
      "{2, 3, 5}\n"
     ]
    }
   ],
   "source": [
    "# declaring a set\n",
    "s1 = set( [1, 2, 3, 1] ) # uses the set keyword and square brackets\n",
    "s2 = {4, 4, 5} # uses curly brackets, like dictionary\n",
    "print( type(s1), type(s2) )\n",
    "s1.add(5) # using the add method to add new items to a set\n",
    "s1.remove(1) # using the remove method to get rid of the value 1\n",
    "print(s1) # notice when printed it removed the second \"1\" at the end"
   ]
  },
  {
   "cell_type": "code",
   "execution_count": 4,
   "metadata": {},
   "outputs": [
    {
     "name": "stdout",
     "output_type": "stream",
     "text": [
      "Bank account numbers entered:\n",
      "frozenset()\n"
     ]
    }
   ],
   "source": [
    "bank_accounts = []\n",
    "\n",
    "while True:\n",
    "    account_number = input(\"Enter bank account number (or 'done' to finish): \")\n",
    "    if account_number.lower() == 'done':\n",
    "        break\n",
    "    else:\n",
    "        bank_accounts.append(account_number)\n",
    "\n",
    "bank_accounts_set = frozenset(bank_accounts)\n",
    "print(\"Bank account numbers entered:\")\n",
    "print(bank_accounts_set)\n"
   ]
  },
  {
   "cell_type": "code",
   "execution_count": null,
   "metadata": {},
   "outputs": [],
   "source": []
  },
  {
   "cell_type": "code",
   "execution_count": 6,
   "metadata": {},
   "outputs": [],
   "source": [
    " # opening/creating and writing to a text file\n",
    "f = open(\"test.txt\", \"w+\") # open file in writing and reading mode\n",
    "f.write(\"this is a test\")\n",
    "f.close( )\n"
   ]
  },
  {
   "cell_type": "code",
   "execution_count": 11,
   "metadata": {},
   "outputs": [
    {
     "name": "stdout",
     "output_type": "stream",
     "text": [
      "Arsenal is great\n"
     ]
    }
   ],
   "source": [
    "#reading from a text file\n",
    "f=open(\"example.txt\",\"r\")\n",
    "data=f.read()\n",
    "f.close()\n",
    "print(data)"
   ]
  },
  {
   "cell_type": "code",
   "execution_count": 12,
   "metadata": {},
   "outputs": [
    {
     "name": "stdout",
     "output_type": "stream",
     "text": [
      "this is a test\n"
     ]
    }
   ],
   "source": [
    " # reading from a text file\n",
    "f = open(\"test.txt\", \"r\")\n",
    "data = f.read( )\n",
    "f.close( )\n",
    "print(data)"
   ]
  },
  {
   "cell_type": "code",
   "execution_count": 15,
   "metadata": {},
   "outputs": [],
   "source": [
    "# opening/creating and writing to a csv file\n",
    "import  csv\n",
    "with open(\"test.csv\", mode=\"w\", newline=\"\") as f:\n",
    "    writer = csv.writer(f, delimiter=\",\")\n",
    "    writer.writerow( [\"Name\", \"City\"] )\n",
    "    writer.writerow( [\"Craig Lou\", \"Taiwan\"] )"
   ]
  },
  {
   "cell_type": "code",
   "execution_count": 17,
   "metadata": {},
   "outputs": [
    {
     "name": "stdout",
     "output_type": "stream",
     "text": [
      "['Name', 'City']\n",
      "['Craig Lou', 'Taiwan']\n"
     ]
    }
   ],
   "source": [
    " # reading from csv files\n",
    "with open(\"test.csv\", mode=\"r\") as f:\n",
    "    reader = csv.reader(f, delimiter=\",\")\n",
    "    for row in reader:\n",
    "        print(row)"
   ]
  },
  {
   "cell_type": "code",
   "execution_count": 22,
   "metadata": {},
   "outputs": [
    {
     "name": "stdout",
     "output_type": "stream",
     "text": [
      "Your favorite number has been saved to favorite_number.txt\n"
     ]
    }
   ],
   "source": [
    "# Ask the user for their favorite number\n",
    "favorite_number = input(\"What is your favorite number? \")\n",
    "\n",
    "# Define the filename\n",
    "filename = \"favorite_number.txt\"\n",
    "\n",
    "# Write the favorite number to a text file\n",
    "with open(filename, 'a') as file:\n",
    "    file.write(favorite_number)\n",
    "\n",
    "print(\"Your favorite number has been saved to\", filename)\n"
   ]
  },
  {
   "cell_type": "code",
   "execution_count": 24,
   "metadata": {},
   "outputs": [],
   "source": [
    "def palindrome(word):\n",
    "    return True if word == word[::-1] else False"
   ]
  },
  {
   "cell_type": "code",
   "execution_count": 26,
   "metadata": {},
   "outputs": [
    {
     "data": {
      "text/plain": [
       "True"
      ]
     },
     "execution_count": 26,
     "metadata": {},
     "output_type": "execute_result"
    }
   ],
   "source": [
    "palindrome(\"racecar\")"
   ]
  },
  {
   "cell_type": "code",
   "execution_count": 28,
   "metadata": {},
   "outputs": [
    {
     "data": {
      "text/plain": [
       "True"
      ]
     },
     "execution_count": 28,
     "metadata": {},
     "output_type": "execute_result"
    }
   ],
   "source": [
    "palindrome(\"anna\")"
   ]
  },
  {
   "cell_type": "code",
   "execution_count": 32,
   "metadata": {},
   "outputs": [
    {
     "name": "stdout",
     "output_type": "stream",
     "text": [
      "Tallied Results:\n",
      "----------------\n",
      "Favorite Food | Count\n",
      "----------------\n",
      "ugali         | 2\n",
      "rice          | 2\n",
      "chicken       | 1\n"
     ]
    }
   ],
   "source": [
    "import csv\n",
    "from collections import Counter\n",
    "\n",
    "# Function to collect favorite food from users and save to CSV\n",
    "def collectFavoriteFood():\n",
    "    # List to store favorite foods\n",
    "    favorite_foods = []\n",
    "    \n",
    "    # Ask users for their favorite foods until they input \"done\"\n",
    "    while True:\n",
    "        food = input(\"What is your favorite food? (Type 'done' to finish): \")\n",
    "        if food.lower() == 'done':\n",
    "            break\n",
    "        favorite_foods.append(food)\n",
    "    \n",
    "    # Save the favorite foods to CSV file\n",
    "    with open(\"favorite_food.csv\", mode=\"a\", newline=\"\") as f:\n",
    "        writer = csv.writer(f)\n",
    "        for food in favorite_foods:\n",
    "            writer.writerow([food])\n",
    "\n",
    "# Function to display tallied results\n",
    "def displayTalliedResults():\n",
    "    # Read favorite foods from CSV file\n",
    "    with open(\"favorite_food.csv\", mode=\"r\") as f:\n",
    "        reader = csv.reader(f)\n",
    "        # Count occurrences of each favorite food\n",
    "        favorite_food_counts = Counter(row[0] for row in reader)\n",
    "    \n",
    "    # Display the tallied results\n",
    "    print(\"Tallied Results:\")\n",
    "    print(\"----------------\")\n",
    "    print(\"Favorite Food | Count\")\n",
    "    print(\"----------------\")\n",
    "    for food, count in favorite_food_counts.items():\n",
    "        print(f\"{food.ljust(13)} | {count}\")\n",
    "\n",
    "# Main function\n",
    "def main():\n",
    "    # Collect favorite foods from users\n",
    "    collectFavoriteFood()\n",
    "    \n",
    "    # Display tallied results\n",
    "    displayTalliedResults()\n",
    "\n",
    "# Execute the main function\n",
    "if __name__ == \"__main__\":\n",
    "    main()\n"
   ]
  },
  {
   "cell_type": "code",
   "execution_count": 35,
   "metadata": {},
   "outputs": [
    {
     "name": "stdout",
     "output_type": "stream",
     "text": [
      "96740857731\n",
      "96739495595\n"
     ]
    }
   ],
   "source": [
    "# instantiating multiple objects from the same class\n",
    "class Car( ):\n",
    " pass\n",
    "ford = Car( )\n",
    "subaru = Car( ) # creates another object from the car class\n",
    "print( hash(ford) )\n",
    "print( hash(subaru) ) # hash outputs a numerical representation of the location in memory for the variable"
   ]
  },
  {
   "cell_type": "code",
   "execution_count": 37,
   "metadata": {},
   "outputs": [],
   "source": [
    "class Bus():\n",
    "    pass \n",
    "school_bus = Bus( )"
   ]
  },
  {
   "cell_type": "code",
   "execution_count": 39,
   "metadata": {},
   "outputs": [],
   "source": [
    "class Bus:\n",
    "    def __init__(self):\n",
    "        pass\n",
    "\n",
    "school_bus = Bus()\n"
   ]
  },
  {
   "cell_type": "code",
   "execution_count": 44,
   "metadata": {},
   "outputs": [
    {
     "name": "stdout",
     "output_type": "stream",
     "text": [
      "beep\n"
     ]
    }
   ],
   "source": [
    "# how to define a class attribute\n",
    "class Car( ):\n",
    " sound = \"beep\" # all car objects will have this sound attribute and its' value\n",
    " color = \"red\" # all car objects will have this color attribute and its' value\n",
    "ford = Car( )\n",
    "print(ford.sound )# known as 'dot syntax'"
   ]
  },
  {
   "cell_type": "code",
   "execution_count": 46,
   "metadata": {},
   "outputs": [
    {
     "name": "stdout",
     "output_type": "stream",
     "text": [
      "Sammi is a Husky Canine.\n",
      "Casey is a Chocolate Lab Canine.\n"
     ]
    }
   ],
   "source": [
    "\"\"\"\n",
    ". Dogs: Create a Dog class that has one global attribute and two instance level \n",
    "attributes. The global attribute should be “species” with a value of “Canine.” \n",
    "The two instance attributes should be “name” and “breed.” Then instantiate \n",
    "two dog objects, a Husky named Sammi and a Chocolate Lab named Casey.\n",
    "\n",
    "\"\"\"\n",
    "class Dog:\n",
    "    # Global attribute\n",
    "    species = \"Canine\"\n",
    "\n",
    "    # Instance attributes\n",
    "    def __init__(self, name, breed):\n",
    "        self.name = name\n",
    "        self.breed = breed\n",
    "\n",
    "# Instantiate two dog objects\n",
    "sammi = Dog(\"Sammi\", \"Husky\")\n",
    "casey = Dog(\"Casey\", \"Chocolate Lab\")\n",
    "\n",
    "# Print information about the dogs\n",
    "print(f\"{sammi.name} is a {sammi.breed} {Dog.species}.\")\n",
    "print(f\"{casey.name} is a {casey.breed} {Dog.species}.\")\n"
   ]
  },
  {
   "cell_type": "code",
   "execution_count": 48,
   "metadata": {},
   "outputs": [
    {
     "name": "stdout",
     "output_type": "stream",
     "text": [
      "Your name is: mumbi\n"
     ]
    }
   ],
   "source": [
    "\"\"\"User Input: Create a Person class that has a single instance level attribute of \n",
    "“name.” Ask the user to input their name, and create an instance of the Person\n",
    "class with the name they typed in. Then print out their name.\"\"\"\n",
    "\n",
    "class Person:\n",
    "    def __init__(self, name):\n",
    "        self.name = name\n",
    "\n",
    "# Ask the user to input their name\n",
    "user_name = input(\"Please enter your name: \")\n",
    "\n",
    "# Create an instance of the Person class with the user's name\n",
    "user_person = Person(user_name)\n",
    "\n",
    "# Print out their name\n",
    "print(\"Your name is:\", user_person.name)\n"
   ]
  },
  {
   "cell_type": "code",
   "execution_count": 51,
   "metadata": {},
   "outputs": [
    {
     "name": "stdout",
     "output_type": "stream",
     "text": [
      "bark\n"
     ]
    }
   ],
   "source": [
    "# defining and calling our first class method\n",
    "class Dog( ):\n",
    " def makeSound(self):\n",
    "    print(\"bark\")\n",
    "sam = Dog( )\n",
    "sam.makeSound( )"
   ]
  },
  {
   "cell_type": "code",
   "execution_count": 55,
   "metadata": {},
   "outputs": [
    {
     "name": "stdout",
     "output_type": "stream",
     "text": [
      "bark\n"
     ]
    }
   ],
   "source": [
    "# using the self keyword to access attributes within class methods\n",
    "class Dog( ):\n",
    " sound = \"bark\"\n",
    " def makeSound(self):\n",
    "     print(self.sound) # self required to access attributes defined in the class\n",
    "sam = Dog( )\n",
    "sam.makeSound( )"
   ]
  },
  {
   "cell_type": "code",
   "execution_count": 64,
   "metadata": {},
   "outputs": [],
   "source": [
    " # understanding which methods are accessible via the class itself and class instances\n",
    "class Dog( ):\n",
    "    sound = \"bark\"\n",
    "    def makeSound(self):\n",
    "        print(self.sound)\n",
    "        def printInfo( ):\n",
    "            print(\"I am a dog.\")\n",
    "            Dog.printInfo( )\n",
    "            sam = Dog( )\n",
    "            sam.makeSound( )\n",
    "            "
   ]
  },
  {
   "cell_type": "code",
   "execution_count": 68,
   "metadata": {},
   "outputs": [
    {
     "name": "stdout",
     "output_type": "stream",
     "text": [
      "6\n"
     ]
    }
   ],
   "source": [
    "# writing methods that accept parameters\n",
    "class Dog( ):\n",
    " def showAge(self, age):\n",
    "    print(age) # does not need self, age is referencing the parameter not an attribute\n",
    "sam = Dog( )\n",
    "sam.showAge( 6 ) # passing the integer 6 as an argument to the showAge method"
   ]
  },
  {
   "cell_type": "code",
   "execution_count": 78,
   "metadata": {},
   "outputs": [],
   "source": [
    "# using methods to set or return attribute values, proper programming practice\n",
    "class Dog( ):\n",
    "    name = ' ' # would normally use init method to declare, this is for testing purposes\n",
    "    def setName(self, new_name):\n",
    "        self.name = new_name # declares the new value for the name attribute\n",
    "        def getName(self):\n",
    "            return self.name # returns the value of the name attribute\n",
    "        sam = Dog( )\n",
    "        sam.setName(\"Sammi\")\n",
    "        print( sam.getName( ) )"
   ]
  },
  {
   "cell_type": "code",
   "execution_count": 80,
   "metadata": {},
   "outputs": [
    {
     "name": "stdout",
     "output_type": "stream",
     "text": [
      "6\n"
     ]
    }
   ],
   "source": [
    "# incrementing/decrementing attribute values with methods, best programming practice\n",
    "class Dog( ):\n",
    " age = 5\n",
    " def happyBirthday(self):\n",
    "    self.age += 1\n",
    "sam = Dog( )\n",
    "sam.happyBirthday( ) # calls method to increment value by one\n",
    "print(sam.age) # better practice use getters, this is for testing purposes"
   ]
  },
  {
   "cell_type": "code",
   "execution_count": 82,
   "metadata": {},
   "outputs": [
    {
     "name": "stdout",
     "output_type": "stream",
     "text": [
      "Puppy!\n"
     ]
    }
   ],
   "source": [
    "class Dog:\n",
    "    age = 6\n",
    "    \n",
    "    def getAge(self):\n",
    "        return self.age\n",
    "    \n",
    "    def printInfo(self):\n",
    "        if self.getAge() < 10:  # Corrected indentation and added self\n",
    "            print(\"Puppy!\")\n",
    "\n",
    "# Create an instance of the Dog class\n",
    "sam = Dog()\n",
    "\n",
    "# Call the printInfo method\n",
    "sam.printInfo()\n"
   ]
  },
  {
   "cell_type": "code",
   "execution_count": 85,
   "metadata": {},
   "outputs": [
    {
     "name": "stdout",
     "output_type": "stream",
     "text": [
      "This is a dog class\n"
     ]
    }
   ],
   "source": [
    "# using magic methods\n",
    "class Dog( ):\n",
    " def __str__(self):\n",
    "    return \"This is a dog class\"\n",
    "sam = Dog( )\n",
    "print(sam) # will print the return of the string magic method"
   ]
  },
  {
   "cell_type": "code",
   "execution_count": 87,
   "metadata": {},
   "outputs": [
    {
     "name": "stdout",
     "output_type": "stream",
     "text": [
      "Species of the lion: feline\n"
     ]
    }
   ],
   "source": [
    "\"\"\". Animals: Create a class definition of an animal that has a species attribute and \n",
    "both a setter and getter to change or access the attributes value. Create an \n",
    "instance called “lion,” and call the setter method with an argument of “feline.” \n",
    "Then print out the species by calling the getter method.\n",
    "\"\"\"\n",
    "class Animal:\n",
    "    def __init__(self):\n",
    "        self._species = None\n",
    "\n",
    "    def set_species(self, species):\n",
    "        self._species = species\n",
    "\n",
    "    def get_species(self):\n",
    "        return self._species\n",
    "\n",
    "# Create an instance of the Animal class called \"lion\"\n",
    "lion = Animal()\n",
    "\n",
    "# Call the setter method to set the species to \"feline\"\n",
    "lion.set_species(\"feline\")\n",
    "\n",
    "# Print out the species by calling the getter method\n",
    "print(\"Species of the lion:\", lion.get_species())\n"
   ]
  },
  {
   "cell_type": "code",
   "execution_count": 90,
   "metadata": {},
   "outputs": [
    {
     "name": "stdout",
     "output_type": "stream",
     "text": [
      "You are 25 years old.\n"
     ]
    }
   ],
   "source": [
    "\"\"\"\n",
    ". User Input: Create a class Person that takes in a name when instantiated but \n",
    "sets an age to 0. Within the class definition setup, a setter and getter that will \n",
    "ask the user to input their age and set the age attribute to the value input. \n",
    "Then output the information in a formatted string as “You are 64 years old.” \n",
    "Assuming the user inputs 64 as their age.\n",
    "\"\"\"\n",
    "class Person:\n",
    "    def __init__(self, name):\n",
    "        self.name = name\n",
    "        self._age = 0\n",
    "\n",
    "    def set_age(self):\n",
    "        age = input(\"Please enter your age: \")\n",
    "        self._age = int(age)\n",
    "\n",
    "    def get_age(self):\n",
    "        return self._age\n",
    "\n",
    "    def display_info(self):\n",
    "        print(\"You are {} years old.\".format(self.get_age()))\n",
    "\n",
    "# Create an instance of the Person class with the user's name\n",
    "user_name = input(\"Please enter your name: \")\n",
    "person = Person(user_name)\n",
    "\n",
    "# Call the setter method to ask the user for their age\n",
    "person.set_age()\n",
    "\n",
    "# Display the information in the specified format\n",
    "person.display_info()\n"
   ]
  },
  {
   "cell_type": "code",
   "execution_count": 94,
   "metadata": {},
   "outputs": [],
   "source": [
    " # inheriting a class and accessing the inherited method\n",
    "class Animal( ):\n",
    "    def makeSound(self):\n",
    "        print(\"roar\")\n",
    "        class Dog(Animal): # inheriting Animal class\n",
    "            species = \"Canine\"\n",
    "            sam = Dog( )\n",
    "            sam.makeSound( )\n",
    "            lion = Animal( )\n",
    "            # lion.species        not accessible, inheritance does not work backwards\n",
    "            print(sam.makeSound)"
   ]
  },
  {
   "cell_type": "code",
   "execution_count": 97,
   "metadata": {},
   "outputs": [
    {
     "name": "stdout",
     "output_type": "stream",
     "text": [
      "roar\n",
      "roar\n",
      "None\n"
     ]
    }
   ],
   "source": [
    "class Animal:\n",
    "    def makeSound(self):\n",
    "        print(\"roar\")\n",
    "\n",
    "class Dog(Animal):  # Inheriting Animal class\n",
    "    species = \"Canine\"\n",
    "\n",
    "sam = Dog()\n",
    "sam.makeSound()  # Output: roar\n",
    "\n",
    "lion = Animal()\n",
    "# lion.species        # This line is commented out as it's not relevant to the example\n",
    "\n",
    "print(sam.makeSound())  # Output: <bound method Animal.makeSound of <__main__.Dog object at ...>>\n"
   ]
  },
  {
   "cell_type": "code",
   "execution_count": 101,
   "metadata": {},
   "outputs": [],
   "source": [
    " # using the super( ) method to declare inherited attributes\n",
    "class Animal( ):\n",
    "    def __init__(self, species):\n",
    "        self.species = species\n",
    "        class Dog(Animal):\n",
    "             def __init__(self, species, name):\n",
    "                 self.name=name\n",
    "                 super( ).__init__(species) # using super to declare the species attribute defined in Animal\n",
    "                 sam = Dog(\"Canine\", \"Sammi\")\n",
    "                 print(sam.species)"
   ]
  },
  {
   "cell_type": "code",
   "execution_count": 106,
   "metadata": {},
   "outputs": [],
   "source": [
    "# overriding methods defined in the superclass\n",
    "class Animal( ):\n",
    "    def makeSound(self):\n",
    "        print(\"roar\")\n",
    "        class Dog(Animal):\n",
    "            def makeSound(self):\n",
    "                print(\"bark\")\n",
    "                sam, lion = Dog( ), Animal( ) # declaring multiple variables on a single line\n",
    "                sam.makeSound( ) # overriding will call the makeSound method in Dog\n",
    "                lion.makeSound( ) # no overriding occurs as Animal does not inherit anything\n",
    "\n",
    "            print (sam.makeSound( ))"
   ]
  },
  {
   "cell_type": "code",
   "execution_count": 108,
   "metadata": {},
   "outputs": [
    {
     "name": "stdout",
     "output_type": "stream",
     "text": [
      "bark\n",
      "roar\n"
     ]
    }
   ],
   "source": [
    "class Animal:\n",
    "    def makeSound(self):\n",
    "        print(\"roar\")\n",
    "\n",
    "class Dog(Animal):\n",
    "    def makeSound(self):\n",
    "        print(\"bark\")\n",
    "\n",
    "sam = Dog()\n",
    "lion = Animal()\n",
    "\n",
    "sam.makeSound()  # Output: bark\n",
    "lion.makeSound()  # Output: roar\n"
   ]
  },
  {
   "cell_type": "code",
   "execution_count": 111,
   "metadata": {},
   "outputs": [],
   "source": [
    " # how to inherit multiple classes\n",
    "class Physics( ):\n",
    "    gravity = 9.8\n",
    "    class Automobile( ):\n",
    "        def __init__(self, make, model, year):\n",
    "            self.make, self.model, self.year = make, model, year # declaring all attributes on one line\n",
    "            class Ford(Physics, Automobile): # able to access Physics and Automobile attributes and methods\n",
    "                def __init__(self, model, year):\n",
    "                    truck = Ford(\"F-150\", 2018)\n",
    "                    print(truck.gravity, truck.make) # output both attributes\n"
   ]
  },
  {
   "cell_type": "code",
   "execution_count": null,
   "metadata": {},
   "outputs": [],
   "source": []
  },
  {
   "cell_type": "code",
   "execution_count": 113,
   "metadata": {},
   "outputs": [
    {
     "name": "stdout",
     "output_type": "stream",
     "text": [
      "9.8 Ford\n"
     ]
    }
   ],
   "source": [
    "class Physics:\n",
    "    gravity = 9.8\n",
    "\n",
    "class Automobile:\n",
    "    def __init__(self, make, model, year):\n",
    "        self.make = make\n",
    "        self.model = model\n",
    "        self.year = year\n",
    "\n",
    "class Ford(Physics, Automobile):\n",
    "    def __init__(self, model, year):\n",
    "        super().__init__(\"Ford\", model, year)  # Call the constructor of the Automobile class\n",
    "        # Alternatively, you can explicitly call the constructor:\n",
    "        # Automobile.__init__(self, \"Ford\", model, year)\n",
    "\n",
    "truck = Ford(\"F-150\", 2018)\n",
    "print(truck.gravity, truck.make)  # Output: 9.8 F-150\n"
   ]
  },
  {
   "cell_type": "code",
   "execution_count": 115,
   "metadata": {},
   "outputs": [
    {
     "name": "stdout",
     "output_type": "stream",
     "text": [
      "Hello, my name is Max and I'm on the good guys.\n",
      "Hello, my name is Tony and I'm on the bad guys.\n"
     ]
    }
   ],
   "source": [
    "\"\"\"\n",
    " Good Guys/Bad Guys: Create three classes, a superclass called “Characters” \n",
    "that will be defined with the following attributes and methods:\n",
    "a. Attributes: name, team, height, weight\n",
    "b. Methods: sayHello\n",
    "The sayHello method should output the statement “Hello, my name is Max and \n",
    "I’m on the good guys”. The team attribute should be declared to a string of \n",
    "either “good” or “bad.” The other two classes, which will be subclasses, will \n",
    "be “GoodPlayers” and “BadPlayers.” Both classes will inherit “Characters” and \n",
    "super all the attributes that the superclass requires. The subclasses do not need \n",
    "any other methods or attributes. Instantiate one player on each team, and call \n",
    "the sayHello method for each. The output should result in the following:\n",
    " >>> \"Hello, my name is Max and I'm on the good guys\"\n",
    " >>> \"Hello, my name is Tony and I'm on the bad guys\"\n",
    "\n",
    "\"\"\"\n",
    "class Characters:\n",
    "    def __init__(self, name, team, height, weight):\n",
    "        self.name = name\n",
    "        self.team = team\n",
    "        self.height = height\n",
    "        self.weight = weight\n",
    "\n",
    "    def sayHello(self):\n",
    "        if self.team == \"good\":\n",
    "            print(f\"Hello, my name is {self.name} and I'm on the good guys.\")\n",
    "        elif self.team == \"bad\":\n",
    "            print(f\"Hello, my name is {self.name} and I'm on the bad guys.\")\n",
    "\n",
    "class GoodPlayers(Characters):\n",
    "    pass\n",
    "\n",
    "class BadPlayers(Characters):\n",
    "    pass\n",
    "\n",
    "# Instantiate one player on each team\n",
    "good_guy = GoodPlayers(\"Max\", \"good\", \"6'2\\\"\", \"180 lbs\")\n",
    "bad_guy = BadPlayers(\"Tony\", \"bad\", \"5'10\\\"\", \"160 lbs\")\n",
    "\n",
    "# Call the sayHello method for each player\n",
    "good_guy.sayHello()\n",
    "bad_guy.sayHello()\n"
   ]
  },
  {
   "cell_type": "code",
   "execution_count": null,
   "metadata": {},
   "outputs": [],
   "source": []
  }
 ],
 "metadata": {
  "kernelspec": {
   "display_name": "Python 3",
   "language": "python",
   "name": "python3"
  },
  "language_info": {
   "codemirror_mode": {
    "name": "ipython",
    "version": 3
   },
   "file_extension": ".py",
   "mimetype": "text/x-python",
   "name": "python",
   "nbconvert_exporter": "python",
   "pygments_lexer": "ipython3",
   "version": "3.12.2"
  }
 },
 "nbformat": 4,
 "nbformat_minor": 2
}
